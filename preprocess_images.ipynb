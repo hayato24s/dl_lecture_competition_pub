{
 "cells": [
  {
   "cell_type": "code",
   "execution_count": null,
   "metadata": {},
   "outputs": [],
   "source": [
    "from torchvision.transforms.functional import resize\n",
    "from PIL import Image\n",
    "import numpy as np\n",
    "import pandas as pd"
   ]
  },
  {
   "cell_type": "code",
   "execution_count": null,
   "metadata": {},
   "outputs": [],
   "source": [
    "def load_image(image_file_path: str) -> np.ndarray:\n",
    "    \"\"\"\n",
    "\n",
    "    Args:\n",
    "        image_file_path (str): _description_\n",
    "\n",
    "    Returns:\n",
    "        np.ndarray: shape is (224, 224, 3), dtype np.uint8\n",
    "    \"\"\"\n",
    "    image = Image.open(image_file_path)\n",
    "    image = resize(image, size=[224, 224])\n",
    "    image = np.array(image)\n",
    "    assert image.shape == (224, 224, 3), image.dtype == np.uint8\n",
    "    return image"
   ]
  },
  {
   "cell_type": "code",
   "execution_count": null,
   "metadata": {},
   "outputs": [],
   "source": [
    "df_train = pd.read_json(\"data/train.json\")\n",
    "df_train"
   ]
  },
  {
   "cell_type": "code",
   "execution_count": null,
   "metadata": {},
   "outputs": [],
   "source": [
    "all_images = np.empty(shape=(len(df_train), 224, 224, 3), dtype=np.uint8)"
   ]
  },
  {
   "cell_type": "code",
   "execution_count": null,
   "metadata": {},
   "outputs": [],
   "source": [
    "for i, image_file_name in enumerate(df_train[\"image\"]):\n",
    "    all_images[i, :, :, :] = load_image(f\"data/train/{image_file_name}\")"
   ]
  },
  {
   "cell_type": "code",
   "execution_count": null,
   "metadata": {},
   "outputs": [],
   "source": [
    "np.save(\"data/train_224x224x3_uint8.npy\", all_images)"
   ]
  },
  {
   "cell_type": "code",
   "execution_count": null,
   "metadata": {},
   "outputs": [],
   "source": [
    "df_valid = pd.read_json(\"data/valid.json\")\n",
    "df_valid"
   ]
  },
  {
   "cell_type": "code",
   "execution_count": null,
   "metadata": {},
   "outputs": [],
   "source": [
    "all_images = np.empty(shape=(len(df_valid), 224, 224, 3), dtype=np.uint8)"
   ]
  },
  {
   "cell_type": "code",
   "execution_count": null,
   "metadata": {},
   "outputs": [],
   "source": [
    "for i, image_file_name in enumerate(df_valid[\"image\"]):\n",
    "    all_images[i, :, :, :] = load_image(f\"data/valid/{image_file_name}\")"
   ]
  },
  {
   "cell_type": "code",
   "execution_count": null,
   "metadata": {},
   "outputs": [],
   "source": [
    "np.save(\"data/valid_224x224x3_uint8.npy\", all_images)"
   ]
  }
 ],
 "metadata": {
  "kernelspec": {
   "display_name": "venv",
   "language": "python",
   "name": "python3"
  },
  "language_info": {
   "name": "python",
   "version": "3.12.2"
  }
 },
 "nbformat": 4,
 "nbformat_minor": 2
}
