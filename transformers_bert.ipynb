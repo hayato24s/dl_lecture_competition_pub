{
 "cells": [
  {
   "cell_type": "code",
   "execution_count": 1,
   "metadata": {},
   "outputs": [
    {
     "name": "stderr",
     "output_type": "stream",
     "text": [
      "/home/acg16877nc/prj/dl_lecture_competition_pub/venv/lib/python3.12/site-packages/tqdm/auto.py:21: TqdmWarning: IProgress not found. Please update jupyter and ipywidgets. See https://ipywidgets.readthedocs.io/en/stable/user_install.html\n",
      "  from .autonotebook import tqdm as notebook_tqdm\n"
     ]
    }
   ],
   "source": [
    "import torch\n",
    "from transformers import BertModel, BertTokenizer"
   ]
  },
  {
   "cell_type": "code",
   "execution_count": 12,
   "metadata": {},
   "outputs": [
    {
     "data": {
      "text/plain": [
       "BertTokenizer(name_or_path='bert-base-uncased', vocab_size=30522, model_max_length=512, is_fast=False, padding_side='right', truncation_side='right', special_tokens={'unk_token': '[UNK]', 'sep_token': '[SEP]', 'pad_token': '[PAD]', 'cls_token': '[CLS]', 'mask_token': '[MASK]'}, clean_up_tokenization_spaces=True),  added_tokens_decoder={\n",
       "\t0: AddedToken(\"[PAD]\", rstrip=False, lstrip=False, single_word=False, normalized=False, special=True),\n",
       "\t100: AddedToken(\"[UNK]\", rstrip=False, lstrip=False, single_word=False, normalized=False, special=True),\n",
       "\t101: AddedToken(\"[CLS]\", rstrip=False, lstrip=False, single_word=False, normalized=False, special=True),\n",
       "\t102: AddedToken(\"[SEP]\", rstrip=False, lstrip=False, single_word=False, normalized=False, special=True),\n",
       "\t103: AddedToken(\"[MASK]\", rstrip=False, lstrip=False, single_word=False, normalized=False, special=True),\n",
       "}"
      ]
     },
     "execution_count": 12,
     "metadata": {},
     "output_type": "execute_result"
    }
   ],
   "source": [
    "tokenizer = BertTokenizer.from_pretrained(\"bert-base-uncased\")\n",
    "tokenizer"
   ]
  },
  {
   "cell_type": "code",
   "execution_count": 13,
   "metadata": {},
   "outputs": [],
   "source": [
    "model = BertModel.from_pretrained(\n",
    "    \"bert-base-uncased\", torch_dtype=torch.float32, attn_implementation=\"sdpa\"\n",
    ")\n",
    "model"
   ]
  },
  {
   "cell_type": "code",
   "execution_count": 3,
   "metadata": {},
   "outputs": [],
   "source": [
    "question = [\"What is this?\", \"What color is this item?\"]"
   ]
  },
  {
   "cell_type": "code",
   "execution_count": 4,
   "metadata": {},
   "outputs": [
    {
     "data": {
      "text/plain": [
       "{'input_ids': tensor([[ 101, 2054, 2003, 2023, 1029,  102,    0,    0],\n",
       "        [ 101, 2054, 3609, 2003, 2023, 8875, 1029,  102]]), 'token_type_ids': tensor([[0, 0, 0, 0, 0, 0, 0, 0],\n",
       "        [0, 0, 0, 0, 0, 0, 0, 0]]), 'attention_mask': tensor([[1, 1, 1, 1, 1, 1, 0, 0],\n",
       "        [1, 1, 1, 1, 1, 1, 1, 1]])}"
      ]
     },
     "execution_count": 4,
     "metadata": {},
     "output_type": "execute_result"
    }
   ],
   "source": [
    "tokens = tokenizer(question, truncation=True, padding=True, return_tensors=\"pt\")\n",
    "tokens"
   ]
  },
  {
   "cell_type": "code",
   "execution_count": 5,
   "metadata": {},
   "outputs": [
    {
     "data": {
      "text/plain": [
       "BaseModelOutputWithPoolingAndCrossAttentions(last_hidden_state=tensor([[[-1.1342e-01,  2.8220e-01, -1.4480e-01,  ..., -3.0662e-01,\n",
       "           2.0749e-01,  5.5641e-01],\n",
       "         [-1.2009e-01,  2.5142e-01,  3.5878e-02,  ...,  1.1832e-01,\n",
       "           5.6315e-01,  5.3796e-02],\n",
       "         [-4.6563e-01,  2.1183e-01,  6.5998e-01,  ..., -3.8980e-01,\n",
       "           3.7921e-01,  2.8643e-01],\n",
       "         ...,\n",
       "         [ 6.9743e-01, -1.3903e-02, -4.4067e-01,  ...,  1.2451e-01,\n",
       "          -5.6420e-01, -2.2375e-01],\n",
       "         [ 1.2918e-01,  3.0617e-01,  3.4418e-01,  ...,  5.0363e-02,\n",
       "          -2.8302e-02, -6.6885e-02],\n",
       "         [ 8.8091e-03,  1.9304e-01, -7.4459e-02,  ...,  2.5981e-01,\n",
       "          -7.5429e-04,  5.0784e-02]],\n",
       "\n",
       "        [[-1.7020e-01,  2.8946e-01, -1.4752e-01,  ..., -9.7935e-02,\n",
       "           1.0543e-01,  4.8088e-01],\n",
       "         [ 8.3866e-02,  1.2128e-01,  9.1845e-02,  ...,  7.9741e-02,\n",
       "          -4.1977e-02,  1.0357e-01],\n",
       "         [-3.2677e-02, -5.9795e-01, -3.9158e-01,  ..., -2.2559e-01,\n",
       "           3.4812e-02,  2.3619e-01],\n",
       "         ...,\n",
       "         [ 3.7981e-01, -3.9122e-01, -2.0505e-02,  ..., -2.7125e-01,\n",
       "          -2.2647e-01, -5.4853e-01],\n",
       "         [-4.4054e-01,  5.3781e-02, -8.1748e-01,  ...,  4.1269e-03,\n",
       "           4.2679e-02, -1.2762e-03],\n",
       "         [ 6.9199e-01,  1.4334e-01, -2.8877e-01,  ...,  2.3360e-01,\n",
       "          -4.4165e-01, -2.1682e-01]]], grad_fn=<NativeLayerNormBackward0>), pooler_output=tensor([[-0.9637, -0.4166, -0.8599,  ..., -0.6450, -0.7364,  0.9665],\n",
       "        [-0.9183, -0.3263, -0.6649,  ..., -0.5371, -0.7017,  0.9416]],\n",
       "       grad_fn=<TanhBackward0>), hidden_states=None, past_key_values=None, attentions=None, cross_attentions=None)"
      ]
     },
     "execution_count": 5,
     "metadata": {},
     "output_type": "execute_result"
    }
   ],
   "source": [
    "outputs = model(**tokens)\n",
    "outputs"
   ]
  },
  {
   "cell_type": "code",
   "execution_count": 6,
   "metadata": {},
   "outputs": [
    {
     "data": {
      "text/plain": [
       "odict_keys(['last_hidden_state', 'pooler_output'])"
      ]
     },
     "execution_count": 6,
     "metadata": {},
     "output_type": "execute_result"
    }
   ],
   "source": [
    "outputs.keys()"
   ]
  },
  {
   "cell_type": "code",
   "execution_count": 7,
   "metadata": {},
   "outputs": [
    {
     "data": {
      "text/plain": [
       "torch.Size([2, 8, 768])"
      ]
     },
     "execution_count": 7,
     "metadata": {},
     "output_type": "execute_result"
    }
   ],
   "source": [
    "outputs.last_hidden_state.shape"
   ]
  },
  {
   "cell_type": "code",
   "execution_count": 8,
   "metadata": {},
   "outputs": [
    {
     "data": {
      "text/plain": [
       "torch.Size([2, 768])"
      ]
     },
     "execution_count": 8,
     "metadata": {},
     "output_type": "execute_result"
    }
   ],
   "source": [
    "outputs.pooler_output.shape"
   ]
  },
  {
   "cell_type": "code",
   "execution_count": null,
   "metadata": {},
   "outputs": [],
   "source": []
  }
 ],
 "metadata": {
  "kernelspec": {
   "display_name": "venv",
   "language": "python",
   "name": "python3"
  },
  "language_info": {
   "codemirror_mode": {
    "name": "ipython",
    "version": 3
   },
   "file_extension": ".py",
   "mimetype": "text/x-python",
   "name": "python",
   "nbconvert_exporter": "python",
   "pygments_lexer": "ipython3",
   "version": "3.12.2"
  }
 },
 "nbformat": 4,
 "nbformat_minor": 2
}
